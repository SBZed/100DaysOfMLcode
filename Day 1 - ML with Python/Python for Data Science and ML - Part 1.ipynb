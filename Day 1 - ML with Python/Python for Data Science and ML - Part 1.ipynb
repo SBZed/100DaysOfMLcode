{
 "cells": [
  {
   "cell_type": "markdown",
   "metadata": {
    "colab_type": "text",
    "id": "vaLAQUhj709E"
   },
   "source": [
    "`14 Oct 2018`\n",
    "# Day 1 - Required Things in Python \n",
    "[People are still crazy about Python after twenty-five years](https://hackernoon.com/10-ways-to-make-python-a-dangerous-language-for-data-science-6b88566ac040)\n",
    "\n",
    "# 1.Whitespace Formatting\n"
   ]
  },
  {
   "cell_type": "code",
   "execution_count": 1,
   "metadata": {
    "colab": {
     "autoexec": {
      "startup": false,
      "wait_interval": 0
     }
    },
    "colab_type": "code",
    "id": "l4m2J4lx8fSC"
   },
   "outputs": [
    {
     "name": "stdout",
     "output_type": "stream",
     "text": [
      "[[1, 2, 3], [4, 5, 6], [7, 8, 9]]\n"
     ]
    }
   ],
   "source": [
    "list_of_lists = [[1,2,3], [4,5,6], [7,8,9]]\n",
    "easier_to_read_list_of_lists = [ [1,2,3],\n",
    "                                 [4,5,6],\n",
    "                                 [7,8,9] ]\n",
    "print(list_of_lists)"
   ]
  },
  {
   "cell_type": "code",
   "execution_count": 2,
   "metadata": {
    "colab": {
     "autoexec": {
      "startup": false,
      "wait_interval": 0
     }
    },
    "colab_type": "code",
    "id": "ArnsrrBJ8r0G"
   },
   "outputs": [
    {
     "name": "stdout",
     "output_type": "stream",
     "text": [
      "5\n"
     ]
    }
   ],
   "source": [
    "# \\ - can use for go to next line \n",
    "two_plus_three = 2 + \\\n",
    "            3 # same as 2 + 3\n",
    "print(two_plus_three)"
   ]
  },
  {
   "cell_type": "code",
   "execution_count": 3,
   "metadata": {
    "colab": {
     "autoexec": {
      "startup": false,
      "wait_interval": 0
     }
    },
    "colab_type": "code",
    "id": "qXujqYey8tCq"
   },
   "outputs": [
    {
     "name": "stdout",
     "output_type": "stream",
     "text": [
      "1\n",
      "2\n",
      "3\n",
      "4\n",
      "5\n",
      "1\n",
      "3\n",
      "2\n",
      "5\n"
     ]
    }
   ],
   "source": [
    "for i in [1, 2, 3, 4, 5]:\n",
    "    #notice the blank line\n",
    "    print (i)\n",
    "    \n",
    "# OR\n",
    "\n",
    "print(*(i for i in [1,3,2,5]), sep = '\\n')"
   ]
  },
  {
   "cell_type": "markdown",
   "metadata": {
    "colab_type": "text",
    "id": "Ms00a-vT7dAo"
   },
   "source": [
    "# 2. Python function"
   ]
  },
  {
   "cell_type": "code",
   "execution_count": 4,
   "metadata": {
    "colab": {
     "autoexec": {
      "startup": false,
      "wait_interval": 0
     }
    },
    "colab_type": "code",
    "id": "I8IHm_NU7dAr"
   },
   "outputs": [],
   "source": [
    "#multiply two numbers using a python function\n",
    "def multiply(x,y):\n",
    "    z = x*y\n",
    "    return z"
   ]
  },
  {
   "cell_type": "code",
   "execution_count": 5,
   "metadata": {
    "colab": {
     "autoexec": {
      "startup": false,
      "wait_interval": 0
     },
     "base_uri": "https://localhost:8080/",
     "height": 34
    },
    "colab_type": "code",
    "executionInfo": {
     "elapsed": 948,
     "status": "ok",
     "timestamp": 1533369789014,
     "user": {
      "displayName": "Harun shimanto",
      "photoUrl": "//lh5.googleusercontent.com/-uR8PXeO98jw/AAAAAAAAAAI/AAAAAAAAA9E/M10BfXXo4OM/s50-c-k-no/photo.jpg",
      "userId": "106055380778061853749"
     },
     "user_tz": -360
    },
    "id": "RuywsnS37dA0",
    "outputId": "ed8c4ec3-946e-4329-bdaf-4652c12d2057"
   },
   "outputs": [
    {
     "data": {
      "text/plain": [
       "12"
      ]
     },
     "execution_count": 5,
     "metadata": {},
     "output_type": "execute_result"
    }
   ],
   "source": [
    "multiply(4,3)"
   ]
  },
  {
   "cell_type": "markdown",
   "metadata": {
    "colab_type": "text",
    "id": "SofEZeO47dBA"
   },
   "source": [
    "# 3. Python types"
   ]
  },
  {
   "cell_type": "code",
   "execution_count": 6,
   "metadata": {
    "colab": {
     "autoexec": {
      "startup": false,
      "wait_interval": 0
     },
     "base_uri": "https://localhost:8080/",
     "height": 34
    },
    "colab_type": "code",
    "executionInfo": {
     "elapsed": 846,
     "status": "ok",
     "timestamp": 1533369838753,
     "user": {
      "displayName": "Harun shimanto",
      "photoUrl": "//lh5.googleusercontent.com/-uR8PXeO98jw/AAAAAAAAAAI/AAAAAAAAA9E/M10BfXXo4OM/s50-c-k-no/photo.jpg",
      "userId": "106055380778061853749"
     },
     "user_tz": -360
    },
    "id": "MzeGUgID7dBf",
    "outputId": "046abe58-a29c-45fc-ff49-4feb42322490"
   },
   "outputs": [
    {
     "data": {
      "text/plain": [
       "NoneType"
      ]
     },
     "execution_count": 6,
     "metadata": {},
     "output_type": "execute_result"
    }
   ],
   "source": [
    "type(None)"
   ]
  },
  {
   "cell_type": "code",
   "execution_count": 7,
   "metadata": {
    "colab": {
     "autoexec": {
      "startup": false,
      "wait_interval": 0
     },
     "base_uri": "https://localhost:8080/",
     "height": 34
    },
    "colab_type": "code",
    "executionInfo": {
     "elapsed": 859,
     "status": "ok",
     "timestamp": 1533369840682,
     "user": {
      "displayName": "Harun shimanto",
      "photoUrl": "//lh5.googleusercontent.com/-uR8PXeO98jw/AAAAAAAAAAI/AAAAAAAAA9E/M10BfXXo4OM/s50-c-k-no/photo.jpg",
      "userId": "106055380778061853749"
     },
     "user_tz": -360
    },
    "id": "k2iFvlog7dBn",
    "outputId": "5e68c459-be8e-49c1-c2d2-df46f92072e2"
   },
   "outputs": [
    {
     "data": {
      "text/plain": [
       "function"
      ]
     },
     "execution_count": 7,
     "metadata": {},
     "output_type": "execute_result"
    }
   ],
   "source": [
    "type(multiply)"
   ]
  },
  {
   "cell_type": "markdown",
   "metadata": {
    "colab_type": "text",
    "id": "qsN-JShN7dBt"
   },
   "source": [
    "# 4. Python sequences"
   ]
  },
  {
   "cell_type": "markdown",
   "metadata": {
    "colab_type": "text",
    "id": "dX76z_wN7dBx"
   },
   "source": [
    "##### Tuples are an immutable data structure which cannot be altered (unlike lists)"
   ]
  },
  {
   "cell_type": "code",
   "execution_count": 8,
   "metadata": {
    "colab": {
     "autoexec": {
      "startup": false,
      "wait_interval": 0
     },
     "base_uri": "https://localhost:8080/",
     "height": 102
    },
    "colab_type": "code",
    "executionInfo": {
     "elapsed": 929,
     "status": "ok",
     "timestamp": 1533369914143,
     "user": {
      "displayName": "Harun shimanto",
      "photoUrl": "//lh5.googleusercontent.com/-uR8PXeO98jw/AAAAAAAAAAI/AAAAAAAAA9E/M10BfXXo4OM/s50-c-k-no/photo.jpg",
      "userId": "106055380778061853749"
     },
     "user_tz": -360
    },
    "id": "cRB1mG-37dCQ",
    "outputId": "bc59dc4a-014d-414a-9937-23a564e1cd36"
   },
   "outputs": [
    {
     "name": "stdout",
     "output_type": "stream",
     "text": [
      "1\n",
      "2\n",
      "3\n",
      "4\n",
      "2.5\n"
     ]
    }
   ],
   "source": [
    "b = [1,2,3,4,2.5]\n",
    "for number in b: #looping through list\n",
    "    print(number)"
   ]
  },
  {
   "cell_type": "code",
   "execution_count": 9,
   "metadata": {
    "colab": {
     "autoexec": {
      "startup": false,
      "wait_interval": 0
     },
     "base_uri": "https://localhost:8080/",
     "height": 102
    },
    "colab_type": "code",
    "executionInfo": {
     "elapsed": 870,
     "status": "ok",
     "timestamp": 1533369918098,
     "user": {
      "displayName": "Harun shimanto",
      "photoUrl": "//lh5.googleusercontent.com/-uR8PXeO98jw/AAAAAAAAAAI/AAAAAAAAA9E/M10BfXXo4OM/s50-c-k-no/photo.jpg",
      "userId": "106055380778061853749"
     },
     "user_tz": -360
    },
    "id": "jPMKdOZ67dCX",
    "outputId": "d4b3e62e-c920-4552-86c6-b5e1157c8692"
   },
   "outputs": [
    {
     "name": "stdout",
     "output_type": "stream",
     "text": [
      "1\n",
      "2\n",
      "3\n",
      "4\n",
      "2.5\n"
     ]
    }
   ],
   "source": [
    "for i in range(len(b)): #looping using index of a list\n",
    "    print(b[i])"
   ]
  },
  {
   "cell_type": "code",
   "execution_count": 10,
   "metadata": {
    "colab": {
     "autoexec": {
      "startup": false,
      "wait_interval": 0
     },
     "base_uri": "https://localhost:8080/",
     "height": 34
    },
    "colab_type": "code",
    "executionInfo": {
     "elapsed": 952,
     "status": "ok",
     "timestamp": 1533369924626,
     "user": {
      "displayName": "Harun shimanto",
      "photoUrl": "//lh5.googleusercontent.com/-uR8PXeO98jw/AAAAAAAAAAI/AAAAAAAAA9E/M10BfXXo4OM/s50-c-k-no/photo.jpg",
      "userId": "106055380778061853749"
     },
     "user_tz": -360
    },
    "id": "qYVLi2Et7dCc",
    "outputId": "93c10b49-98bf-499d-aa18-d233512b022a"
   },
   "outputs": [
    {
     "data": {
      "text/plain": [
       "[1, 2, 3, 1, 'bc', 'de']"
      ]
     },
     "execution_count": 10,
     "metadata": {},
     "output_type": "execute_result"
    }
   ],
   "source": [
    "[1,2,3] + [1,'bc','de'] #concatenate lists"
   ]
  },
  {
   "cell_type": "code",
   "execution_count": 11,
   "metadata": {
    "colab": {
     "autoexec": {
      "startup": false,
      "wait_interval": 0
     },
     "base_uri": "https://localhost:8080/",
     "height": 34
    },
    "colab_type": "code",
    "executionInfo": {
     "elapsed": 851,
     "status": "ok",
     "timestamp": 1533369927474,
     "user": {
      "displayName": "Harun shimanto",
      "photoUrl": "//lh5.googleusercontent.com/-uR8PXeO98jw/AAAAAAAAAAI/AAAAAAAAA9E/M10BfXXo4OM/s50-c-k-no/photo.jpg",
      "userId": "106055380778061853749"
     },
     "user_tz": -360
    },
    "id": "bvu48BPX7dCg",
    "outputId": "3c07eb67-c881-4798-892d-a6941e1a77b5"
   },
   "outputs": [
    {
     "data": {
      "text/plain": [
       "[1, 2, 1, 2, 1, 2]"
      ]
     },
     "execution_count": 11,
     "metadata": {},
     "output_type": "execute_result"
    }
   ],
   "source": [
    "[1,2]*3 #repeat lists"
   ]
  },
  {
   "cell_type": "code",
   "execution_count": 12,
   "metadata": {
    "colab": {
     "autoexec": {
      "startup": false,
      "wait_interval": 0
     },
     "base_uri": "https://localhost:8080/",
     "height": 34
    },
    "colab_type": "code",
    "executionInfo": {
     "elapsed": 1231,
     "status": "ok",
     "timestamp": 1533369935316,
     "user": {
      "displayName": "Harun shimanto",
      "photoUrl": "//lh5.googleusercontent.com/-uR8PXeO98jw/AAAAAAAAAAI/AAAAAAAAA9E/M10BfXXo4OM/s50-c-k-no/photo.jpg",
      "userId": "106055380778061853749"
     },
     "user_tz": -360
    },
    "id": "WWA05tCB7dCm",
    "outputId": "9c71e97f-3fee-495c-85b2-87de6bf8069c"
   },
   "outputs": [
    {
     "data": {
      "text/plain": [
       "True"
      ]
     },
     "execution_count": 12,
     "metadata": {},
     "output_type": "execute_result"
    }
   ],
   "source": [
    "3 in b #in operator to check if required object is in list"
   ]
  },
  {
   "cell_type": "markdown",
   "metadata": {
    "colab_type": "text",
    "id": "1mZXrPxd7dCq"
   },
   "source": [
    "#### Strings store character objects"
   ]
  },
  {
   "cell_type": "code",
   "execution_count": 13,
   "metadata": {
    "colab": {
     "autoexec": {
      "startup": false,
      "wait_interval": 0
     }
    },
    "colab_type": "code",
    "id": "Kc_ayN4R7dCq"
   },
   "outputs": [],
   "source": [
    "x = 'My name is Saurabh'"
   ]
  },
  {
   "cell_type": "code",
   "execution_count": 14,
   "metadata": {
    "colab": {
     "autoexec": {
      "startup": false,
      "wait_interval": 0
     },
     "base_uri": "https://localhost:8080/",
     "height": 34
    },
    "colab_type": "code",
    "executionInfo": {
     "elapsed": 1267,
     "status": "ok",
     "timestamp": 1533370073247,
     "user": {
      "displayName": "Harun shimanto",
      "photoUrl": "//lh5.googleusercontent.com/-uR8PXeO98jw/AAAAAAAAAAI/AAAAAAAAA9E/M10BfXXo4OM/s50-c-k-no/photo.jpg",
      "userId": "106055380778061853749"
     },
     "user_tz": -360
    },
    "id": "l3AxKosB7dCv",
    "outputId": "f950362c-7e0e-4982-ac1d-d6e8eefdbd4b"
   },
   "outputs": [
    {
     "data": {
      "text/plain": [
       "'M'"
      ]
     },
     "execution_count": 14,
     "metadata": {},
     "output_type": "execute_result"
    }
   ],
   "source": [
    "x[0] #Access first letter"
   ]
  },
  {
   "cell_type": "code",
   "execution_count": 15,
   "metadata": {
    "colab": {
     "autoexec": {
      "startup": false,
      "wait_interval": 0
     },
     "base_uri": "https://localhost:8080/",
     "height": 34
    },
    "colab_type": "code",
    "executionInfo": {
     "elapsed": 840,
     "status": "ok",
     "timestamp": 1533370075373,
     "user": {
      "displayName": "Harun shimanto",
      "photoUrl": "//lh5.googleusercontent.com/-uR8PXeO98jw/AAAAAAAAAAI/AAAAAAAAA9E/M10BfXXo4OM/s50-c-k-no/photo.jpg",
      "userId": "106055380778061853749"
     },
     "user_tz": -360
    },
    "id": "nYZ-Z3qi7dC3",
    "outputId": "3b32aa27-b264-4775-f862-4ed1325a60af"
   },
   "outputs": [
    {
     "data": {
      "text/plain": [
       "'M'"
      ]
     },
     "execution_count": 15,
     "metadata": {},
     "output_type": "execute_result"
    }
   ],
   "source": [
    "x[0:1] #Still accesses only first letter"
   ]
  },
  {
   "cell_type": "code",
   "execution_count": 16,
   "metadata": {
    "colab": {
     "autoexec": {
      "startup": false,
      "wait_interval": 0
     },
     "base_uri": "https://localhost:8080/",
     "height": 34
    },
    "colab_type": "code",
    "executionInfo": {
     "elapsed": 1057,
     "status": "ok",
     "timestamp": 1533370078251,
     "user": {
      "displayName": "Harun shimanto",
      "photoUrl": "//lh5.googleusercontent.com/-uR8PXeO98jw/AAAAAAAAAAI/AAAAAAAAA9E/M10BfXXo4OM/s50-c-k-no/photo.jpg",
      "userId": "106055380778061853749"
     },
     "user_tz": -360
    },
    "id": "GnDw-R5O7dC6",
    "outputId": "107b7f73-4499-4faf-b368-3cd31895457a"
   },
   "outputs": [
    {
     "data": {
      "text/plain": [
       "'My'"
      ]
     },
     "execution_count": 16,
     "metadata": {},
     "output_type": "execute_result"
    }
   ],
   "source": [
    "x[0:2] #Accesses two letters"
   ]
  },
  {
   "cell_type": "code",
   "execution_count": 17,
   "metadata": {
    "colab": {
     "autoexec": {
      "startup": false,
      "wait_interval": 0
     },
     "base_uri": "https://localhost:8080/",
     "height": 34
    },
    "colab_type": "code",
    "executionInfo": {
     "elapsed": 1078,
     "status": "ok",
     "timestamp": 1533370082512,
     "user": {
      "displayName": "Harun shimanto",
      "photoUrl": "//lh5.googleusercontent.com/-uR8PXeO98jw/AAAAAAAAAAI/AAAAAAAAA9E/M10BfXXo4OM/s50-c-k-no/photo.jpg",
      "userId": "106055380778061853749"
     },
     "user_tz": -360
    },
    "id": "RY0WPIMS7dC_",
    "outputId": "92c70ec5-7495-48d9-9606-e6cb04e6d2fe"
   },
   "outputs": [
    {
     "data": {
      "text/plain": [
       "'My name is Saurab'"
      ]
     },
     "execution_count": 17,
     "metadata": {},
     "output_type": "execute_result"
    }
   ],
   "source": [
    "x[:-1] #Accesses everything except last letter"
   ]
  },
  {
   "cell_type": "code",
   "execution_count": 18,
   "metadata": {
    "colab": {
     "autoexec": {
      "startup": false,
      "wait_interval": 0
     },
     "base_uri": "https://localhost:8080/",
     "height": 34
    },
    "colab_type": "code",
    "executionInfo": {
     "elapsed": 1088,
     "status": "ok",
     "timestamp": 1533370086418,
     "user": {
      "displayName": "Harun shimanto",
      "photoUrl": "//lh5.googleusercontent.com/-uR8PXeO98jw/AAAAAAAAAAI/AAAAAAAAA9E/M10BfXXo4OM/s50-c-k-no/photo.jpg",
      "userId": "106055380778061853749"
     },
     "user_tz": -360
    },
    "id": "6Rtw5CQ27dDF",
    "outputId": "b5e81f63-a9c9-47ce-a52e-0def23d16945"
   },
   "outputs": [
    {
     "data": {
      "text/plain": [
       "' Saurabh'"
      ]
     },
     "execution_count": 18,
     "metadata": {},
     "output_type": "execute_result"
    }
   ],
   "source": [
    "x[10:] #returns all the characters from 10th position till end"
   ]
  },
  {
   "cell_type": "code",
   "execution_count": 19,
   "metadata": {
    "colab": {
     "autoexec": {
      "startup": false,
      "wait_interval": 0
     }
    },
    "colab_type": "code",
    "id": "1WTHpA677dDL"
   },
   "outputs": [],
   "source": [
    "first = 'Saurabh'\n",
    "last = 'Zinjad'\n",
    "\n",
    "Name = first + ' ' + last #string concatenation"
   ]
  },
  {
   "cell_type": "code",
   "execution_count": 20,
   "metadata": {
    "colab": {
     "autoexec": {
      "startup": false,
      "wait_interval": 0
     },
     "base_uri": "https://localhost:8080/",
     "height": 34
    },
    "colab_type": "code",
    "executionInfo": {
     "elapsed": 846,
     "status": "ok",
     "timestamp": 1533370108448,
     "user": {
      "displayName": "Harun shimanto",
      "photoUrl": "//lh5.googleusercontent.com/-uR8PXeO98jw/AAAAAAAAAAI/AAAAAAAAA9E/M10BfXXo4OM/s50-c-k-no/photo.jpg",
      "userId": "106055380778061853749"
     },
     "user_tz": -360
    },
    "id": "IxJUhb7S7dDN",
    "outputId": "525b251d-40e0-40d9-ac9c-edb6ef07f141"
   },
   "outputs": [
    {
     "name": "stdout",
     "output_type": "stream",
     "text": [
      "Saurabh Zinjad\n"
     ]
    }
   ],
   "source": [
    "print(Name)"
   ]
  },
  {
   "cell_type": "code",
   "execution_count": 21,
   "metadata": {
    "colab": {
     "autoexec": {
      "startup": false,
      "wait_interval": 0
     },
     "base_uri": "https://localhost:8080/",
     "height": 34
    },
    "colab_type": "code",
    "executionInfo": {
     "elapsed": 844,
     "status": "ok",
     "timestamp": 1533370114149,
     "user": {
      "displayName": "Harun shimanto",
      "photoUrl": "//lh5.googleusercontent.com/-uR8PXeO98jw/AAAAAAAAAAI/AAAAAAAAA9E/M10BfXXo4OM/s50-c-k-no/photo.jpg",
      "userId": "106055380778061853749"
     },
     "user_tz": -360
    },
    "id": "bGgmguzl7dDS",
    "outputId": "155f9bc3-7a29-4133-c9a0-cb59b9507c1c"
   },
   "outputs": [
    {
     "data": {
      "text/plain": [
       "['Saurabh', 'Zinjad']"
      ]
     },
     "execution_count": 21,
     "metadata": {},
     "output_type": "execute_result"
    }
   ],
   "source": [
    "Name.split(' ') #split the words in a string using split function"
   ]
  },
  {
   "cell_type": "code",
   "execution_count": 22,
   "metadata": {
    "colab": {
     "autoexec": {
      "startup": false,
      "wait_interval": 0
     },
     "base_uri": "https://localhost:8080/",
     "height": 34
    },
    "colab_type": "code",
    "executionInfo": {
     "elapsed": 1072,
     "status": "ok",
     "timestamp": 1533370117046,
     "user": {
      "displayName": "Harun shimanto",
      "photoUrl": "//lh5.googleusercontent.com/-uR8PXeO98jw/AAAAAAAAAAI/AAAAAAAAA9E/M10BfXXo4OM/s50-c-k-no/photo.jpg",
      "userId": "106055380778061853749"
     },
     "user_tz": -360
    },
    "id": "fmBMm2Ir7dDV",
    "outputId": "6482b7af-0c6c-4e07-d380-4a17a09693ab"
   },
   "outputs": [
    {
     "data": {
      "text/plain": [
       "'Saurabh'"
      ]
     },
     "execution_count": 22,
     "metadata": {},
     "output_type": "execute_result"
    }
   ],
   "source": [
    "Name.split(' ')[0] #Show the first word"
   ]
  },
  {
   "cell_type": "code",
   "execution_count": 23,
   "metadata": {
    "colab": {
     "autoexec": {
      "startup": false,
      "wait_interval": 0
     },
     "base_uri": "https://localhost:8080/",
     "height": 34
    },
    "colab_type": "code",
    "executionInfo": {
     "elapsed": 822,
     "status": "ok",
     "timestamp": 1533370120005,
     "user": {
      "displayName": "Harun shimanto",
      "photoUrl": "//lh5.googleusercontent.com/-uR8PXeO98jw/AAAAAAAAAAI/AAAAAAAAA9E/M10BfXXo4OM/s50-c-k-no/photo.jpg",
      "userId": "106055380778061853749"
     },
     "user_tz": -360
    },
    "id": "xuIoIuVZ7dDa",
    "outputId": "57f9ea89-7343-422e-e868-53198a5fb91d"
   },
   "outputs": [
    {
     "data": {
      "text/plain": [
       "'Zinjad'"
      ]
     },
     "execution_count": 23,
     "metadata": {},
     "output_type": "execute_result"
    }
   ],
   "source": [
    "Name.split(' ')[1] #Show the second word"
   ]
  },
  {
   "cell_type": "code",
   "execution_count": 24,
   "metadata": {
    "colab": {
     "autoexec": {
      "startup": false,
      "wait_interval": 0
     },
     "base_uri": "https://localhost:8080/",
     "height": 34
    },
    "colab_type": "code",
    "executionInfo": {
     "elapsed": 899,
     "status": "ok",
     "timestamp": 1533370122722,
     "user": {
      "displayName": "Harun shimanto",
      "photoUrl": "//lh5.googleusercontent.com/-uR8PXeO98jw/AAAAAAAAAAI/AAAAAAAAA9E/M10BfXXo4OM/s50-c-k-no/photo.jpg",
      "userId": "106055380778061853749"
     },
     "user_tz": -360
    },
    "id": "Oocf_JP97dDe",
    "outputId": "11c04443-a0aa-4d54-9d81-0e23c6702f11"
   },
   "outputs": [
    {
     "data": {
      "text/plain": [
       "'Zinjad'"
      ]
     },
     "execution_count": 24,
     "metadata": {},
     "output_type": "execute_result"
    }
   ],
   "source": [
    "Name.split(' ')[-1] #Last word from the end"
   ]
  },
  {
   "cell_type": "code",
   "execution_count": 25,
   "metadata": {
    "colab": {
     "autoexec": {
      "startup": false,
      "wait_interval": 0
     },
     "base_uri": "https://localhost:8080/",
     "height": 34
    },
    "colab_type": "code",
    "executionInfo": {
     "elapsed": 936,
     "status": "ok",
     "timestamp": 1533370134241,
     "user": {
      "displayName": "Harun shimanto",
      "photoUrl": "//lh5.googleusercontent.com/-uR8PXeO98jw/AAAAAAAAAAI/AAAAAAAAA9E/M10BfXXo4OM/s50-c-k-no/photo.jpg",
      "userId": "106055380778061853749"
     },
     "user_tz": -360
    },
    "id": "FDQOmIdN7dDi",
    "outputId": "c455d309-ae3b-4d0f-d952-4772d8461965"
   },
   "outputs": [
    {
     "data": {
      "text/plain": [
       "'Harun2'"
      ]
     },
     "execution_count": 25,
     "metadata": {},
     "output_type": "execute_result"
    }
   ],
   "source": [
    "#for concatenation convert objects to strings\n",
    "'Harun' + str(2)"
   ]
  },
  {
   "cell_type": "markdown",
   "metadata": {
    "colab_type": "text",
    "id": "KKK05TLv7dDp"
   },
   "source": [
    "#### Dictionaries link keys and values"
   ]
  },
  {
   "cell_type": "code",
   "execution_count": 26,
   "metadata": {
    "colab": {
     "autoexec": {
      "startup": false,
      "wait_interval": 0
     }
    },
    "colab_type": "code",
    "id": "BxTP5t0y7dDq"
   },
   "outputs": [],
   "source": [
    "c = {\"Name\" : \"Saurabh\", \"Height\" : 175}"
   ]
  },
  {
   "cell_type": "code",
   "execution_count": 27,
   "metadata": {
    "colab": {
     "autoexec": {
      "startup": false,
      "wait_interval": 0
     },
     "base_uri": "https://localhost:8080/",
     "height": 34
    },
    "colab_type": "code",
    "executionInfo": {
     "elapsed": 833,
     "status": "ok",
     "timestamp": 1533370207122,
     "user": {
      "displayName": "Harun shimanto",
      "photoUrl": "//lh5.googleusercontent.com/-uR8PXeO98jw/AAAAAAAAAAI/AAAAAAAAA9E/M10BfXXo4OM/s50-c-k-no/photo.jpg",
      "userId": "106055380778061853749"
     },
     "user_tz": -360
    },
    "id": "UYoSTtrI7dDt",
    "outputId": "a8768dd2-e62b-4f66-e075-6744e7922c6e"
   },
   "outputs": [
    {
     "data": {
      "text/plain": [
       "dict"
      ]
     },
     "execution_count": 27,
     "metadata": {},
     "output_type": "execute_result"
    }
   ],
   "source": [
    "type(c)"
   ]
  },
  {
   "cell_type": "code",
   "execution_count": 28,
   "metadata": {
    "colab": {
     "autoexec": {
      "startup": false,
      "wait_interval": 0
     },
     "base_uri": "https://localhost:8080/",
     "height": 34
    },
    "colab_type": "code",
    "executionInfo": {
     "elapsed": 930,
     "status": "ok",
     "timestamp": 1533370208922,
     "user": {
      "displayName": "Harun shimanto",
      "photoUrl": "//lh5.googleusercontent.com/-uR8PXeO98jw/AAAAAAAAAAI/AAAAAAAAA9E/M10BfXXo4OM/s50-c-k-no/photo.jpg",
      "userId": "106055380778061853749"
     },
     "user_tz": -360
    },
    "id": "VcLJu0R87dDw",
    "outputId": "5105542f-dc9c-4b25-c349-bcdf2ca18ba0"
   },
   "outputs": [
    {
     "name": "stdout",
     "output_type": "stream",
     "text": [
      "{'Name': 'Saurabh', 'Height': 175}\n"
     ]
    }
   ],
   "source": [
    "print(c)"
   ]
  },
  {
   "cell_type": "code",
   "execution_count": 29,
   "metadata": {
    "colab": {
     "autoexec": {
      "startup": false,
      "wait_interval": 0
     },
     "base_uri": "https://localhost:8080/",
     "height": 34
    },
    "colab_type": "code",
    "executionInfo": {
     "elapsed": 847,
     "status": "ok",
     "timestamp": 1533370210984,
     "user": {
      "displayName": "Harun shimanto",
      "photoUrl": "//lh5.googleusercontent.com/-uR8PXeO98jw/AAAAAAAAAAI/AAAAAAAAA9E/M10BfXXo4OM/s50-c-k-no/photo.jpg",
      "userId": "106055380778061853749"
     },
     "user_tz": -360
    },
    "id": "Y-M7hPZj7dD0",
    "outputId": "158a739d-62db-42ca-8ca5-0b8167fb08e5"
   },
   "outputs": [
    {
     "data": {
      "text/plain": [
       "'Saurabh'"
      ]
     },
     "execution_count": 29,
     "metadata": {},
     "output_type": "execute_result"
    }
   ],
   "source": [
    "c['Name'] #Access Name"
   ]
  },
  {
   "cell_type": "code",
   "execution_count": 30,
   "metadata": {
    "colab": {
     "autoexec": {
      "startup": false,
      "wait_interval": 0
     },
     "base_uri": "https://localhost:8080/",
     "height": 34
    },
    "colab_type": "code",
    "executionInfo": {
     "elapsed": 846,
     "status": "ok",
     "timestamp": 1533370212784,
     "user": {
      "displayName": "Harun shimanto",
      "photoUrl": "//lh5.googleusercontent.com/-uR8PXeO98jw/AAAAAAAAAAI/AAAAAAAAA9E/M10BfXXo4OM/s50-c-k-no/photo.jpg",
      "userId": "106055380778061853749"
     },
     "user_tz": -360
    },
    "id": "WITaMcxN7dD5",
    "outputId": "1fb9b5de-09ba-4fa8-9ae5-e86a1c816e19"
   },
   "outputs": [
    {
     "data": {
      "text/plain": [
       "175"
      ]
     },
     "execution_count": 30,
     "metadata": {},
     "output_type": "execute_result"
    }
   ],
   "source": [
    "c['Height']"
   ]
  },
  {
   "cell_type": "code",
   "execution_count": 31,
   "metadata": {
    "colab": {
     "autoexec": {
      "startup": false,
      "wait_interval": 0
     },
     "base_uri": "https://localhost:8080/",
     "height": 51
    },
    "colab_type": "code",
    "executionInfo": {
     "elapsed": 1092,
     "status": "ok",
     "timestamp": 1533370215170,
     "user": {
      "displayName": "Harun shimanto",
      "photoUrl": "//lh5.googleusercontent.com/-uR8PXeO98jw/AAAAAAAAAAI/AAAAAAAAA9E/M10BfXXo4OM/s50-c-k-no/photo.jpg",
      "userId": "106055380778061853749"
     },
     "user_tz": -360
    },
    "id": "_ZvZIgDj7dD_",
    "outputId": "052d3e21-df15-44bc-c00d-2c211bcac533"
   },
   "outputs": [
    {
     "name": "stdout",
     "output_type": "stream",
     "text": [
      "Name\n",
      "Height\n"
     ]
    }
   ],
   "source": [
    "#print all the keys\n",
    "for i in c:\n",
    "    print(i)"
   ]
  },
  {
   "cell_type": "code",
   "execution_count": 32,
   "metadata": {
    "colab": {
     "autoexec": {
      "startup": false,
      "wait_interval": 0
     },
     "base_uri": "https://localhost:8080/",
     "height": 51
    },
    "colab_type": "code",
    "executionInfo": {
     "elapsed": 1010,
     "status": "ok",
     "timestamp": 1533370217367,
     "user": {
      "displayName": "Harun shimanto",
      "photoUrl": "//lh5.googleusercontent.com/-uR8PXeO98jw/AAAAAAAAAAI/AAAAAAAAA9E/M10BfXXo4OM/s50-c-k-no/photo.jpg",
      "userId": "106055380778061853749"
     },
     "user_tz": -360
    },
    "id": "CGWvrHaj7dEC",
    "outputId": "a8ef4cfa-afca-4178-a1be-59e9d4642ae7"
   },
   "outputs": [
    {
     "name": "stdout",
     "output_type": "stream",
     "text": [
      "Saurabh\n",
      "175\n"
     ]
    }
   ],
   "source": [
    "#print all the values\n",
    "for i in c.values():\n",
    "    print(i)"
   ]
  },
  {
   "cell_type": "code",
   "execution_count": 33,
   "metadata": {
    "colab": {
     "autoexec": {
      "startup": false,
      "wait_interval": 0
     },
     "base_uri": "https://localhost:8080/",
     "height": 85
    },
    "colab_type": "code",
    "executionInfo": {
     "elapsed": 866,
     "status": "ok",
     "timestamp": 1533370219467,
     "user": {
      "displayName": "Harun shimanto",
      "photoUrl": "//lh5.googleusercontent.com/-uR8PXeO98jw/AAAAAAAAAAI/AAAAAAAAA9E/M10BfXXo4OM/s50-c-k-no/photo.jpg",
      "userId": "106055380778061853749"
     },
     "user_tz": -360
    },
    "id": "uwSjI8657dES",
    "outputId": "a977dbe7-1261-4214-efd1-84aacc7cf6aa"
   },
   "outputs": [
    {
     "name": "stdout",
     "output_type": "stream",
     "text": [
      "Name -> Saurabh\n",
      "Height -> 175\n"
     ]
    }
   ],
   "source": [
    "#iterate over all the items\n",
    "for name, height in c.items():\n",
    "    print(name ,'->', height)"
   ]
  },
  {
   "cell_type": "code",
   "execution_count": 34,
   "metadata": {
    "colab": {
     "autoexec": {
      "startup": false,
      "wait_interval": 0
     },
     "base_uri": "https://localhost:8080/",
     "height": 51
    },
    "colab_type": "code",
    "executionInfo": {
     "elapsed": 1302,
     "status": "ok",
     "timestamp": 1533370226657,
     "user": {
      "displayName": "Harun shimanto",
      "photoUrl": "//lh5.googleusercontent.com/-uR8PXeO98jw/AAAAAAAAAAI/AAAAAAAAA9E/M10BfXXo4OM/s50-c-k-no/photo.jpg",
      "userId": "106055380778061853749"
     },
     "user_tz": -360
    },
    "id": "wRe20Hz27dEZ",
    "outputId": "3e65342d-1d7b-4179-f1d3-6f90dd3fa3e6"
   },
   "outputs": [
    {
     "name": "stdout",
     "output_type": "stream",
     "text": [
      "bc\n",
      "def\n"
     ]
    }
   ],
   "source": [
    "#Unpacking a list into different variables\n",
    "a,b = ('bc','def')\n",
    "print(a)\n",
    "print(b)"
   ]
  },
  {
   "cell_type": "markdown",
   "metadata": {
    "colab_type": "text",
    "id": "FwRXkN2g7dEc"
   },
   "source": [
    "# 5. Python dates and times"
   ]
  },
  {
   "cell_type": "code",
   "execution_count": 35,
   "metadata": {
    "colab": {
     "autoexec": {
      "startup": false,
      "wait_interval": 0
     }
    },
    "colab_type": "code",
    "id": "jonykaQC7dEd"
   },
   "outputs": [],
   "source": [
    "import datetime as dt\n",
    "import time as tm"
   ]
  },
  {
   "cell_type": "code",
   "execution_count": 36,
   "metadata": {
    "colab": {
     "autoexec": {
      "startup": false,
      "wait_interval": 0
     },
     "base_uri": "https://localhost:8080/",
     "height": 34
    },
    "colab_type": "code",
    "executionInfo": {
     "elapsed": 874,
     "status": "ok",
     "timestamp": 1533370235548,
     "user": {
      "displayName": "Harun shimanto",
      "photoUrl": "//lh5.googleusercontent.com/-uR8PXeO98jw/AAAAAAAAAAI/AAAAAAAAA9E/M10BfXXo4OM/s50-c-k-no/photo.jpg",
      "userId": "106055380778061853749"
     },
     "user_tz": -360
    },
    "id": "pza3NMlz7dEg",
    "outputId": "c042e75c-76fb-4c81-8261-63c361fbc43b"
   },
   "outputs": [
    {
     "data": {
      "text/plain": [
       "1539462369.6060536"
      ]
     },
     "execution_count": 36,
     "metadata": {},
     "output_type": "execute_result"
    }
   ],
   "source": [
    "tm.time() #print current time in seconds from January 1, 1970"
   ]
  },
  {
   "cell_type": "code",
   "execution_count": 37,
   "metadata": {
    "colab": {
     "autoexec": {
      "startup": false,
      "wait_interval": 0
     }
    },
    "colab_type": "code",
    "id": "p678As0T7dEo"
   },
   "outputs": [],
   "source": [
    "dtnow = dt.datetime.fromtimestamp(tm.time()) #convert timestamp to datetime"
   ]
  },
  {
   "cell_type": "code",
   "execution_count": 38,
   "metadata": {
    "colab": {
     "autoexec": {
      "startup": false,
      "wait_interval": 0
     },
     "base_uri": "https://localhost:8080/",
     "height": 34
    },
    "colab_type": "code",
    "executionInfo": {
     "elapsed": 886,
     "status": "ok",
     "timestamp": 1533370276024,
     "user": {
      "displayName": "Harun shimanto",
      "photoUrl": "//lh5.googleusercontent.com/-uR8PXeO98jw/AAAAAAAAAAI/AAAAAAAAA9E/M10BfXXo4OM/s50-c-k-no/photo.jpg",
      "userId": "106055380778061853749"
     },
     "user_tz": -360
    },
    "id": "gds2XQXh7dEq",
    "outputId": "e47de7be-4090-4795-be43-eb8885a9af46"
   },
   "outputs": [
    {
     "data": {
      "text/plain": [
       "2018"
      ]
     },
     "execution_count": 38,
     "metadata": {},
     "output_type": "execute_result"
    }
   ],
   "source": [
    "dtnow.year"
   ]
  },
  {
   "cell_type": "code",
   "execution_count": 39,
   "metadata": {
    "colab": {
     "autoexec": {
      "startup": false,
      "wait_interval": 0
     },
     "base_uri": "https://localhost:8080/",
     "height": 34
    },
    "colab_type": "code",
    "executionInfo": {
     "elapsed": 1022,
     "status": "ok",
     "timestamp": 1533370278932,
     "user": {
      "displayName": "Harun shimanto",
      "photoUrl": "//lh5.googleusercontent.com/-uR8PXeO98jw/AAAAAAAAAAI/AAAAAAAAA9E/M10BfXXo4OM/s50-c-k-no/photo.jpg",
      "userId": "106055380778061853749"
     },
     "user_tz": -360
    },
    "id": "Wnl9Ebl67dEu",
    "outputId": "da9954a3-6607-40d4-a8a7-38a61fb29028"
   },
   "outputs": [
    {
     "data": {
      "text/plain": [
       "10"
      ]
     },
     "execution_count": 39,
     "metadata": {},
     "output_type": "execute_result"
    }
   ],
   "source": [
    "dtnow.month"
   ]
  },
  {
   "cell_type": "code",
   "execution_count": 40,
   "metadata": {
    "colab": {
     "autoexec": {
      "startup": false,
      "wait_interval": 0
     }
    },
    "colab_type": "code",
    "id": "OvfliPIE7dEx"
   },
   "outputs": [],
   "source": [
    "delta = dt.timedelta(days=100)"
   ]
  },
  {
   "cell_type": "code",
   "execution_count": 41,
   "metadata": {
    "colab": {
     "autoexec": {
      "startup": false,
      "wait_interval": 0
     }
    },
    "colab_type": "code",
    "id": "-PH7ewG47dEz"
   },
   "outputs": [],
   "source": [
    "today = dt.date.today()"
   ]
  },
  {
   "cell_type": "code",
   "execution_count": 42,
   "metadata": {
    "colab": {
     "autoexec": {
      "startup": false,
      "wait_interval": 0
     },
     "base_uri": "https://localhost:8080/",
     "height": 34
    },
    "colab_type": "code",
    "executionInfo": {
     "elapsed": 852,
     "status": "ok",
     "timestamp": 1533370286940,
     "user": {
      "displayName": "Harun shimanto",
      "photoUrl": "//lh5.googleusercontent.com/-uR8PXeO98jw/AAAAAAAAAAI/AAAAAAAAA9E/M10BfXXo4OM/s50-c-k-no/photo.jpg",
      "userId": "106055380778061853749"
     },
     "user_tz": -360
    },
    "id": "pEMTKCiA7dE2",
    "outputId": "df04571f-e4c5-4b9c-92f9-74ba2dc2ba6b"
   },
   "outputs": [
    {
     "data": {
      "text/plain": [
       "datetime.date(2018, 10, 14)"
      ]
     },
     "execution_count": 42,
     "metadata": {},
     "output_type": "execute_result"
    }
   ],
   "source": [
    "today"
   ]
  },
  {
   "cell_type": "code",
   "execution_count": 43,
   "metadata": {
    "colab": {
     "autoexec": {
      "startup": false,
      "wait_interval": 0
     },
     "base_uri": "https://localhost:8080/",
     "height": 34
    },
    "colab_type": "code",
    "executionInfo": {
     "elapsed": 1018,
     "status": "ok",
     "timestamp": 1533370311200,
     "user": {
      "displayName": "Harun shimanto",
      "photoUrl": "//lh5.googleusercontent.com/-uR8PXeO98jw/AAAAAAAAAAI/AAAAAAAAA9E/M10BfXXo4OM/s50-c-k-no/photo.jpg",
      "userId": "106055380778061853749"
     },
     "user_tz": -360
    },
    "id": "zCXdYlTd7dE7",
    "outputId": "0309c9b6-154d-4f43-ef39-a919006a5631"
   },
   "outputs": [
    {
     "data": {
      "text/plain": [
       "datetime.date(2018, 7, 6)"
      ]
     },
     "execution_count": 43,
     "metadata": {},
     "output_type": "execute_result"
    }
   ],
   "source": [
    "today - delta #subtract 100 days from today's date"
   ]
  },
  {
   "cell_type": "markdown",
   "metadata": {
    "colab_type": "text",
    "id": "tAn4Fk9r7dFA"
   },
   "source": [
    "# 6. Map function"
   ]
  },
  {
   "cell_type": "code",
   "execution_count": 44,
   "metadata": {
    "colab": {
     "autoexec": {
      "startup": false,
      "wait_interval": 0
     }
    },
    "colab_type": "code",
    "id": "k5XVmY6q7dFA"
   },
   "outputs": [],
   "source": [
    "a = [1,2,3,5]\n",
    "b = [8,9,10,11]\n",
    "\n",
    "c = map(min,a,b) #Find the minimum between two pairs of lists\n"
   ]
  },
  {
   "cell_type": "code",
   "execution_count": 45,
   "metadata": {
    "colab": {
     "autoexec": {
      "startup": false,
      "wait_interval": 0
     },
     "base_uri": "https://localhost:8080/",
     "height": 85
    },
    "colab_type": "code",
    "executionInfo": {
     "elapsed": 1071,
     "status": "ok",
     "timestamp": 1533370345868,
     "user": {
      "displayName": "Harun shimanto",
      "photoUrl": "//lh5.googleusercontent.com/-uR8PXeO98jw/AAAAAAAAAAI/AAAAAAAAA9E/M10BfXXo4OM/s50-c-k-no/photo.jpg",
      "userId": "106055380778061853749"
     },
     "user_tz": -360
    },
    "id": "8YEGZUvQ7dFC",
    "outputId": "d0f88b48-9a01-47a7-c239-dfa96a8b93c6"
   },
   "outputs": [
    {
     "name": "stdout",
     "output_type": "stream",
     "text": [
      "1\n",
      "2\n",
      "3\n",
      "5\n"
     ]
    }
   ],
   "source": [
    "for item in c:\n",
    "    print(item) #print the minimum of the pairs"
   ]
  },
  {
   "cell_type": "markdown",
   "metadata": {
    "colab_type": "text",
    "id": "dhpITWS67dFH"
   },
   "source": [
    "# 7. Lambda function"
   ]
  },
  {
   "cell_type": "code",
   "execution_count": 46,
   "metadata": {
    "colab": {
     "autoexec": {
      "startup": false,
      "wait_interval": 0
     }
    },
    "colab_type": "code",
    "id": "RCPqX4eL7dFK"
   },
   "outputs": [],
   "source": [
    "function = lambda a,b,c : a+b+c #function to add three numbers"
   ]
  },
  {
   "cell_type": "code",
   "execution_count": 47,
   "metadata": {
    "colab": {
     "autoexec": {
      "startup": false,
      "wait_interval": 0
     },
     "base_uri": "https://localhost:8080/",
     "height": 34
    },
    "colab_type": "code",
    "executionInfo": {
     "elapsed": 863,
     "status": "ok",
     "timestamp": 1533370365661,
     "user": {
      "displayName": "Harun shimanto",
      "photoUrl": "//lh5.googleusercontent.com/-uR8PXeO98jw/AAAAAAAAAAI/AAAAAAAAA9E/M10BfXXo4OM/s50-c-k-no/photo.jpg",
      "userId": "106055380778061853749"
     },
     "user_tz": -360
    },
    "id": "ssFV-ifi7dFM",
    "outputId": "0fe2b22c-b935-41b6-f1e3-f37b9f4bb582"
   },
   "outputs": [
    {
     "data": {
      "text/plain": [
       "19"
      ]
     },
     "execution_count": 47,
     "metadata": {},
     "output_type": "execute_result"
    }
   ],
   "source": [
    "function(5,6,8) #call the function"
   ]
  },
  {
   "cell_type": "markdown",
   "metadata": {
    "colab_type": "text",
    "id": "WZjbQ2X57dFP"
   },
   "source": [
    "# 8. Filter function"
   ]
  },
  {
   "cell_type": "code",
   "execution_count": 48,
   "metadata": {
    "colab": {
     "autoexec": {
      "startup": false,
      "wait_interval": 0
     }
    },
    "colab_type": "code",
    "id": "g4ZTxeIR7dFQ"
   },
   "outputs": [],
   "source": [
    "x = [0,2,3,4,5,7,8,9,10] #create a list\n",
    "x2 = filter(lambda a : a>5, x) #filter using filter function"
   ]
  },
  {
   "cell_type": "code",
   "execution_count": 49,
   "metadata": {
    "colab": {
     "autoexec": {
      "startup": false,
      "wait_interval": 0
     },
     "base_uri": "https://localhost:8080/",
     "height": 34
    },
    "colab_type": "code",
    "executionInfo": {
     "elapsed": 531,
     "status": "ok",
     "timestamp": 1533370658001,
     "user": {
      "displayName": "Harun shimanto",
      "photoUrl": "//lh5.googleusercontent.com/-uR8PXeO98jw/AAAAAAAAAAI/AAAAAAAAA9E/M10BfXXo4OM/s50-c-k-no/photo.jpg",
      "userId": "106055380778061853749"
     },
     "user_tz": -360
    },
    "id": "7PAMtL547dFS",
    "outputId": "b6f7533e-3e83-4c30-ddbc-34d9c0b036d9"
   },
   "outputs": [
    {
     "name": "stdout",
     "output_type": "stream",
     "text": [
      "[7, 8, 9, 10]\n"
     ]
    }
   ],
   "source": [
    "print(list(x2))"
   ]
  },
  {
   "cell_type": "markdown",
   "metadata": {
    "colab_type": "text",
    "id": "e9j8xdf_7dFV"
   },
   "source": [
    "# 9. Reduce funtion"
   ]
  },
  {
   "cell_type": "code",
   "execution_count": 50,
   "metadata": {
    "colab": {
     "autoexec": {
      "startup": false,
      "wait_interval": 0
     },
     "base_uri": "https://localhost:8080/",
     "height": 34
    },
    "colab_type": "code",
    "executionInfo": {
     "elapsed": 1076,
     "status": "ok",
     "timestamp": 1533370672615,
     "user": {
      "displayName": "Harun shimanto",
      "photoUrl": "//lh5.googleusercontent.com/-uR8PXeO98jw/AAAAAAAAAAI/AAAAAAAAA9E/M10BfXXo4OM/s50-c-k-no/photo.jpg",
      "userId": "106055380778061853749"
     },
     "user_tz": -360
    },
    "id": "LufCpNxk7dFX",
    "outputId": "b527be04-e361-4258-c79e-42fbf42f849d"
   },
   "outputs": [
    {
     "data": {
      "text/plain": [
       "30240"
      ]
     },
     "execution_count": 50,
     "metadata": {},
     "output_type": "execute_result"
    }
   ],
   "source": [
    "from functools import reduce #import reduce function\n",
    "y = [6,7,8,9,10] #create list\n",
    "reduce(lambda a,b : a*b,y) #use reduce"
   ]
  },
  {
   "cell_type": "markdown",
   "metadata": {
    "colab_type": "text",
    "id": "vWE96rSx7dFe"
   },
   "source": [
    "# 10. Zip function"
   ]
  },
  {
   "cell_type": "code",
   "execution_count": 51,
   "metadata": {
    "colab": {
     "autoexec": {
      "startup": false,
      "wait_interval": 0
     },
     "base_uri": "https://localhost:8080/",
     "height": 34
    },
    "colab_type": "code",
    "executionInfo": {
     "elapsed": 847,
     "status": "ok",
     "timestamp": 1533370683916,
     "user": {
      "displayName": "Harun shimanto",
      "photoUrl": "//lh5.googleusercontent.com/-uR8PXeO98jw/AAAAAAAAAAI/AAAAAAAAA9E/M10BfXXo4OM/s50-c-k-no/photo.jpg",
      "userId": "106055380778061853749"
     },
     "user_tz": -360
    },
    "id": "dDegjTUO7dFj",
    "outputId": "9e7a5797-a923-4f38-bf10-e88598348ff2"
   },
   "outputs": [
    {
     "name": "stdout",
     "output_type": "stream",
     "text": [
      "[(1, 5), (2, 6), (3, 7), (4, 8)]\n"
     ]
    }
   ],
   "source": [
    "a = [1,2,3,4] #create two lists\n",
    "b = [5,6,7,8]\n",
    "c = zip(a,b) #Use the zip function\n",
    "print(list(c))"
   ]
  },
  {
   "cell_type": "markdown",
   "metadata": {
    "colab_type": "text",
    "id": "3JoEc88NBATY"
   },
   "source": [
    "# 11.Control Flow"
   ]
  },
  {
   "cell_type": "code",
   "execution_count": 52,
   "metadata": {
    "colab": {
     "autoexec": {
      "startup": false,
      "wait_interval": 0
     }
    },
    "colab_type": "code",
    "id": "3c1D7dKIBO8i"
   },
   "outputs": [],
   "source": [
    "if (1 > 2):\n",
    "     message = \"if only 1 were greater than two…\"\n",
    "elif( 1 > 3):\n",
    "       message= \"elif stands for 'else if'\"\n",
    "else:\n",
    "    message=\"when all else fails use else (if you want to)\""
   ]
  },
  {
   "cell_type": "code",
   "execution_count": 53,
   "metadata": {
    "colab": {
     "autoexec": {
      "startup": false,
      "wait_interval": 0
     }
    },
    "colab_type": "code",
    "id": "4juMRGkACDKN"
   },
   "outputs": [
    {
     "name": "stdout",
     "output_type": "stream",
     "text": [
      "0 is less than 10\n",
      "1 is less than 10\n",
      "2 is less than 10\n",
      "3 is less than 10\n",
      "4 is less than 10\n",
      "5 is less than 10\n",
      "6 is less than 10\n",
      "7 is less than 10\n",
      "8 is less than 10\n",
      "9 is less than 10\n"
     ]
    }
   ],
   "source": [
    "x = 0\n",
    "while x < 10:\n",
    "   print (x, \"is less than 10\")\n",
    "   x += 1"
   ]
  },
  {
   "cell_type": "code",
   "execution_count": 54,
   "metadata": {
    "colab": {
     "autoexec": {
      "startup": false,
      "wait_interval": 0
     }
    },
    "colab_type": "code",
    "id": "bNCOnzLZC7Tl"
   },
   "outputs": [
    {
     "name": "stdout",
     "output_type": "stream",
     "text": [
      "0 is less than 10\n",
      "1 is less than 10\n",
      "2 is less than 10\n",
      "3 is less than 10\n",
      "4 is less than 10\n",
      "5 is less than 10\n",
      "6 is less than 10\n",
      "7 is less than 10\n",
      "8 is less than 10\n",
      "9 is less than 10\n"
     ]
    }
   ],
   "source": [
    "for x in range(10):\n",
    "    print( x, \"is less than 10\")"
   ]
  },
  {
   "cell_type": "code",
   "execution_count": 55,
   "metadata": {
    "colab": {
     "autoexec": {
      "startup": false,
      "wait_interval": 0
     },
     "base_uri": "https://localhost:8080/",
     "height": 85
    },
    "colab_type": "code",
    "executionInfo": {
     "elapsed": 853,
     "status": "ok",
     "timestamp": 1533371340920,
     "user": {
      "displayName": "Harun shimanto",
      "photoUrl": "//lh5.googleusercontent.com/-uR8PXeO98jw/AAAAAAAAAAI/AAAAAAAAA9E/M10BfXXo4OM/s50-c-k-no/photo.jpg",
      "userId": "106055380778061853749"
     },
     "user_tz": -360
    },
    "id": "4gt24-lBDLbX",
    "outputId": "da290744-522c-42b4-bfac-8573cc2bcadb"
   },
   "outputs": [
    {
     "name": "stdout",
     "output_type": "stream",
     "text": [
      "0\n",
      "1\n",
      "2\n",
      "4\n"
     ]
    }
   ],
   "source": [
    "for x in range(10):\n",
    "    if (x == 3):\n",
    "         continue # go immediately to the next iteration\n",
    "    if (x == 5):\n",
    "         break # quit the loop entirely\n",
    "    print (x)"
   ]
  },
  {
   "cell_type": "markdown",
   "metadata": {
    "colab_type": "text",
    "id": "HSqAuj197dFo"
   },
   "source": [
    "# 12. List comprehension"
   ]
  },
  {
   "cell_type": "code",
   "execution_count": 56,
   "metadata": {
    "colab": {
     "autoexec": {
      "startup": false,
      "wait_interval": 0
     }
    },
    "colab_type": "code",
    "id": "u-FENS6H7dFp"
   },
   "outputs": [],
   "source": [
    "#return even numbers from 1 to 50\n",
    "\n",
    "even=[]\n",
    "for i in range(50):\n",
    "    if i%2 ==0:\n",
    "        even.append(i)\n",
    "    else:\n",
    "        None\n",
    "        "
   ]
  },
  {
   "cell_type": "code",
   "execution_count": 57,
   "metadata": {
    "colab": {
     "autoexec": {
      "startup": false,
      "wait_interval": 0
     },
     "base_uri": "https://localhost:8080/",
     "height": 34
    },
    "colab_type": "code",
    "executionInfo": {
     "elapsed": 591,
     "status": "ok",
     "timestamp": 1533370689219,
     "user": {
      "displayName": "Harun shimanto",
      "photoUrl": "//lh5.googleusercontent.com/-uR8PXeO98jw/AAAAAAAAAAI/AAAAAAAAA9E/M10BfXXo4OM/s50-c-k-no/photo.jpg",
      "userId": "106055380778061853749"
     },
     "user_tz": -360
    },
    "id": "OO5Yejng7dFs",
    "outputId": "744d109a-4469-4783-8a7a-fff18b20514a"
   },
   "outputs": [
    {
     "name": "stdout",
     "output_type": "stream",
     "text": [
      "[0, 2, 4, 6, 8, 10, 12, 14, 16, 18, 20, 22, 24, 26, 28, 30, 32, 34, 36, 38, 40, 42, 44, 46, 48]\n"
     ]
    }
   ],
   "source": [
    "print(even)"
   ]
  },
  {
   "cell_type": "code",
   "execution_count": 58,
   "metadata": {
    "colab": {
     "autoexec": {
      "startup": false,
      "wait_interval": 0
     },
     "base_uri": "https://localhost:8080/",
     "height": 34
    },
    "colab_type": "code",
    "executionInfo": {
     "elapsed": 1041,
     "status": "ok",
     "timestamp": 1533370693331,
     "user": {
      "displayName": "Harun shimanto",
      "photoUrl": "//lh5.googleusercontent.com/-uR8PXeO98jw/AAAAAAAAAAI/AAAAAAAAA9E/M10BfXXo4OM/s50-c-k-no/photo.jpg",
      "userId": "106055380778061853749"
     },
     "user_tz": -360
    },
    "id": "Tyvo8IT_7dFu",
    "outputId": "4a2daa73-adb7-4189-d6da-b949996cf29e"
   },
   "outputs": [
    {
     "name": "stdout",
     "output_type": "stream",
     "text": [
      "[0, 2, 4, 6, 8, 10, 12, 14, 16, 18, 20, 22, 24, 26, 28, 30, 32, 34, 36, 38, 40, 42, 44, 46, 48]\n"
     ]
    }
   ],
   "source": [
    "#Let's do the same using list comprehension\n",
    "\n",
    "print([i for i in range(50) if i%2==0])"
   ]
  }
 ],
 "metadata": {
  "accelerator": "GPU",
  "colab": {
   "default_view": {},
   "name": "Python The Dangerous Tool For ML & Data Science : Part 1.ipynb",
   "provenance": [],
   "version": "0.3.2",
   "views": {}
  },
  "kernelspec": {
   "display_name": "Python 3",
   "language": "python",
   "name": "python3"
  },
  "language_info": {
   "codemirror_mode": {
    "name": "ipython",
    "version": 3
   },
   "file_extension": ".py",
   "mimetype": "text/x-python",
   "name": "python",
   "nbconvert_exporter": "python",
   "pygments_lexer": "ipython3",
   "version": "3.7.0"
  }
 },
 "nbformat": 4,
 "nbformat_minor": 1
}
